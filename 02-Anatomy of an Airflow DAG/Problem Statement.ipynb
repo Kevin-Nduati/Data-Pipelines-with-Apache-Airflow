{
 "cells": [
  {
   "attachments": {},
   "cell_type": "markdown",
   "metadata": {},
   "source": [
    "John tracks every rocket launch. The news of every single rocket launch is found in many news sources that John keeps track of, and, ideally, John would like the news sources aggregated in a single location. <br>\n",
    "For the data, we make use of the Launch Library 2, which is an online repo of data about both historical and future rocket launches from various sources"
   ]
  }
 ],
 "metadata": {
  "kernelspec": {
   "display_name": "Python 3",
   "language": "python",
   "name": "python3"
  },
  "language_info": {
   "name": "python",
   "version": "3.10.6 (main, Nov 14 2022, 16:10:14) [GCC 11.3.0]"
  },
  "orig_nbformat": 4,
  "vscode": {
   "interpreter": {
    "hash": "916dbcbb3f70747c44a77c7bcd40155683ae19c65e1c03b4aa3499c5328201f1"
   }
  }
 },
 "nbformat": 4,
 "nbformat_minor": 2
}
